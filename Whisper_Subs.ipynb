{
  "nbformat": 4,
  "nbformat_minor": 0,
  "metadata": {
    "colab": {
      "provenance": [],
      "gpuType": "V28",
      "include_colab_link": true
    },
    "kernelspec": {
      "name": "python3",
      "display_name": "Python 3"
    },
    "language_info": {
      "name": "python"
    },
    "accelerator": "TPU"
  },
  "cells": [
    {
      "cell_type": "markdown",
      "metadata": {
        "id": "view-in-github",
        "colab_type": "text"
      },
      "source": [
        "<a href=\"https://colab.research.google.com/github/KennedyMen/Quickscripts/blob/main/Whisper_Subs.ipynb\" target=\"_parent\"><img src=\"https://colab.research.google.com/assets/colab-badge.svg\" alt=\"Open In Colab\"/></a>"
      ]
    },
    {
      "cell_type": "code",
      "source": [
        "!pip install faster-whisper\n",
        "!pip install ffmpeg-python\n",
        "!pip install pysubs2\n",
        "!pip install tqdm"
      ],
      "metadata": {
        "id": "TiSZ4VE3tCDq"
      },
      "execution_count": null,
      "outputs": []
    },
    {
      "cell_type": "code",
      "source": [
        "!apt-get update\n",
        "!apt-get install -y ffmpeg\n",
        "!pip install ffsubsync\n",
        "!wget https://github.com/kaegi/alass/releases/download/v2.0.0/alass-linux64 -O /usr/local/bin/alass\n",
        "!chmod +x /usr/local/bin/alass\n",
        "\n"
      ],
      "metadata": {
        "id": "RU_HzBpQ7K8c"
      },
      "execution_count": null,
      "outputs": []
    },
    {
      "cell_type": "code",
      "source": [
        "!ffsubsync --version\n",
        "!python -c \"import faster_whisper; print(faster_whisper.__version__)\"\n",
        "!python -c \"import pysubs2; print(pysubs2.__version__)\"\n",
        "!python -c \"import tqdm; print(tqdm.__version__)\"\n",
        "!ffmpeg -version | head -n 1\n",
        "!alass --version\n"
      ],
      "metadata": {
        "id": "WpVITnR37aZQ"
      },
      "execution_count": null,
      "outputs": []
    },
    {
      "cell_type": "code",
      "source": [
        "!alass --version"
      ],
      "metadata": {
        "id": "Z5KNgTs48aoN"
      },
      "execution_count": null,
      "outputs": []
    },
    {
      "cell_type": "code",
      "source": [
        "import os\n",
        "import faster_whisper\n",
        "import math\n",
        "from tqdm import tqdm\n",
        "\n",
        "# Configuration\n",
        "language = \"fr\"\n",
        "input_directory = \"/content/drive/MyDrive/Colab_Notebooks/Files/Media\"  # Change this to your input folder\n",
        "output_directory = \"/content/drive/MyDrive/Colab_Notebooks/Files/Subs\"  # Change this to your output folder\n",
        "\n",
        "# Load Whisper Model\n",
        "model = faster_whisper.WhisperModel(\"large-v2\", device=\"cuda\")\n",
        "\n",
        "def convert_to_hms(seconds: float) -> str:\n",
        "    hours, remainder = divmod(seconds, 3600)\n",
        "    minutes, seconds = divmod(remainder, 60)\n",
        "    milliseconds = math.floor((seconds % 1) * 1000)\n",
        "    return f\"{int(hours):02}:{int(minutes):02}:{int(seconds):02},{milliseconds:03}\"\n",
        "\n",
        "def convert_seg(segment: faster_whisper.transcribe.Segment) -> str:\n",
        "    return f\"{convert_to_hms(segment.start)} --> {convert_to_hms(segment.end)}\\n{segment.text.lstrip()}\\n\\n\"\n",
        "\n",
        "# Ensure output directory exists\n",
        "os.makedirs(output_directory, exist_ok=True)\n",
        "\n",
        "# Process each audio file in the input directory\n",
        "for filename in os.listdir(input_directory):\n",
        "    if filename.endswith(\".mp3\") or filename.endswith(\".wav\"):\n",
        "        input_path = os.path.join(input_directory, filename)\n",
        "        output_path = os.path.join(output_directory, f\"{os.path.splitext(filename)[0]}.srt\")\n",
        "\n",
        "        print(f\"Processing: {filename}\")\n",
        "        segments, info = model.transcribe(input_path, language=language)\n",
        "\n",
        "        full_txt = []\n",
        "        timestamps = 0.0  # for progress bar\n",
        "        with tqdm(total=info.duration, unit=\" audio seconds\") as pbar:\n",
        "            for i, segment in enumerate(segments, start=1):\n",
        "                full_txt.append(f\"{i}\\n{convert_seg(segment)}\")\n",
        "                pbar.update(segment.end - timestamps)\n",
        "                timestamps = segment.end\n",
        "            if timestamps < info.duration:  # silence at the end of the audio\n",
        "                pbar.update(info.duration - timestamps)\n",
        "\n",
        "        with open(output_path, mode=\"w\", encoding=\"UTF-8\") as f:\n",
        "            f.writelines(full_txt)\n",
        "        print(f\"Saved: {output_path}\")\n",
        "\n",
        "print(f\"All Subtitles Finished and saved to: {output_path}\")"
      ],
      "metadata": {
        "id": "1l2dpNDYtjUt"
      },
      "execution_count": null,
      "outputs": []
    }
  ]
}